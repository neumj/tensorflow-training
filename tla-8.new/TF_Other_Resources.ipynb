{
 "cells": [
  {
   "cell_type": "code",
   "execution_count": null,
   "metadata": {},
   "outputs": [],
   "source": [
    "%matplotlib inline\n",
    "import matplotlib\n",
    "import seaborn as sns\n",
    "sns.set()\n",
    "matplotlib.rcParams['figure.dpi'] = 144"
   ]
  },
  {
   "cell_type": "markdown",
   "metadata": {},
   "source": [
    "# Other Resources\n"
   ]
  },
  {
   "cell_type": "markdown",
   "metadata": {},
   "source": [
    "The [TensorFlow website](https://www.tensorflow.org/) should be your first stop for information.  They have extensive [API documentation](https://www.tensorflow.org/api_docs/python/) as well as some handy [developer guides](https://www.tensorflow.org/get_started/get_started).\n",
    "\n",
    "The [TensorFlow models repository](https://github.com/tensorflow/models) contains a number of pre-trained models for you to play with or adapt to your own use.\n",
    "\n",
    "There are a number of projects that provide higher-level APIs for generating neural networks and other ML algorithms with TensorFlow. [Keras](https://keras.io/) is the most extensive, and it will be integrated into TensorFlow proper in the coming releases.\n",
    "\n",
    "If you are still coming to grips with neural networks, the [TensorFlow playground](https://playground.tensorflow.org/) offers some nice visualizations of what individual neurons are learning in a network as training progresses.\n",
    "\n",
    "[Deep Learning](http://www.deeplearningbook.org/), by Ian Goodfellow, Yoshua Bengio, and Aaron Courville, provides extensive information on the modern best practices for deep neural networks.  The authors provide an HTML version free of charge.\n",
    "\n",
    "[Neural Networks and Deep Learning](http://neuralnetworksanddeeplearning.com/index.html), by Michael Nielsen, provides a nice example-driven discussion of the theory behind neural networks.\n",
    "\n",
    "[TensorFlow for Machine Intelligence](http://shop.oreilly.com/product/9781939902351.do), by Sam Abrahams, Danijar Hafner, Erik Erwitt, and Ariel Scarpinelli, contains a number of different machine learning tasks implemented in TensorFlow.  Unfortunately, the rapid development of the library has already obsoleted some of the code, but it's usually not to hard to get things to work."
   ]
  },
  {
   "cell_type": "markdown",
   "metadata": {},
   "source": [
    "*Copyright &copy; 2018 The Data Incubator.  All rights reserved.*"
   ]
  }
 ],
 "metadata": {
  "kernelspec": {
   "display_name": "Python 3",
   "language": "python",
   "name": "python3"
  },
  "nbclean": true
 },
 "nbformat": 4,
 "nbformat_minor": 0
}
